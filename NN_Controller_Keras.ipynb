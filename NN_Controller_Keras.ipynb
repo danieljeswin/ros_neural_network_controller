{
  "nbformat": 4,
  "nbformat_minor": 0,
  "metadata": {
    "colab": {
      "name": "NN Controller - Keras.ipynb",
      "version": "0.3.2",
      "provenance": [],
      "collapsed_sections": []
    },
    "kernelspec": {
      "name": "python3",
      "display_name": "Python 3"
    },
    "accelerator": "TPU"
  },
  "cells": [
    {
      "cell_type": "markdown",
      "metadata": {
        "id": "3-nmW0O5OXmW",
        "colab_type": "text"
      },
      "source": [
        "# Import Libraries\n",
        "  "
      ]
    },
    {
      "cell_type": "code",
      "metadata": {
        "id": "P2ITxNcd-eeg",
        "colab_type": "code",
        "outputId": "7b86b3be-83da-41e5-fd6f-69252a988b25",
        "colab": {
          "base_uri": "https://localhost:8080/",
          "height": 34
        }
      },
      "source": [
        "import tensorflow as tf\n",
        "from keras.models import Sequential\n",
        "from keras.layers import Dense\n",
        "import pandas as pd\n",
        "import numpy as np\n",
        "import sys\n",
        "from sklearn.utils import shuffle\n",
        "import matplotlib.pyplot as plt\n",
        "from google.colab import drive\n",
        "from keras.models import load_model\n",
        "import yaml\n",
        "import glob\n",
        "from keras.models import Model\n",
        "drive.mount('/content/drive', force_remount = True)"
      ],
      "execution_count": 0,
      "outputs": [
        {
          "output_type": "stream",
          "text": [
            "Mounted at /content/drive\n"
          ],
          "name": "stdout"
        }
      ]
    },
    {
      "cell_type": "markdown",
      "metadata": {
        "id": "3isrTIj-OkLg",
        "colab_type": "text"
      },
      "source": [
        "# Get Data\n",
        "Data is obtained by concatenating all the csv files obtained from simulation using PID controllers. The collect_data.py script is used to generate these csv files during simulation\n"
      ]
    },
    {
      "cell_type": "code",
      "metadata": {
        "id": "ZW8Mazpc_C0O",
        "colab_type": "code",
        "colab": {}
      },
      "source": [
        "def get_data():\n",
        "    PATH = '/content/drive/My Drive/Neural Network Controller/data/'\n",
        "    files = glob.glob(f'{PATH}*.csv')[:]\n",
        "    print(files)\n",
        "    df = pd.concat([pd.read_csv(f) for f in files])\n",
        "    print(df.head())\n",
        "    df = df.drop(['id'], axis = 1)\n",
        "    X = df.drop(['target'], axis = 1)\n",
        "    Y = pd.DataFrame(df['target'])\n",
        "    return X.values, Y.values\n"
      ],
      "execution_count": 0,
      "outputs": []
    },
    {
      "cell_type": "code",
      "metadata": {
        "id": "7-kFTbJf_J3F",
        "colab_type": "code",
        "colab": {}
      },
      "source": [
        "def split_data(X, Y):\n",
        "#     X, Y = shuffle(X, Y)\n",
        "    length = X.shape[0]\n",
        "    split = int(length * 0.9)\n",
        "    X_train = X[:split]\n",
        "    Y_train = Y[:split]\n",
        "    X_test = X[split:]\n",
        "    Y_test = Y[split:]\n",
        "\n",
        "    return X_train, Y_train, X_test, Y_test"
      ],
      "execution_count": 0,
      "outputs": []
    },
    {
      "cell_type": "code",
      "metadata": {
        "id": "UHW0oU5y_F1n",
        "colab_type": "code",
        "outputId": "332503fb-5b22-47db-fe3a-e3cc7e5461fb",
        "colab": {
          "base_uri": "https://localhost:8080/",
          "height": 176
        }
      },
      "source": [
        "X, Y = get_data()\n",
        "X_train, Y_train, X_test, Y_test = split_data(X, Y)\n",
        "print(X_train.shape)"
      ],
      "execution_count": 0,
      "outputs": [
        {
          "output_type": "stream",
          "text": [
            "['/content/drive/My Drive/Neural Network Controller/data/data1.csv', '/content/drive/My Drive/Neural Network Controller/data/data2.csv', '/content/drive/My Drive/Neural Network Controller/data/data3.csv']\n",
            "   id       cur_pos       cur_vel         error  goal_pos        target\n",
            "0   0 -4.882628e-10 -2.338387e-09  4.882628e-10       0.0  9.813957e-06\n",
            "1   1  4.883240e-10  2.454111e-09 -4.883240e-10       0.0 -9.815358e-06\n",
            "2   2 -4.834622e-10  1.027551e-08  4.834622e-10       0.0  5.470557e-08\n",
            "3   3  4.877077e-10  3.308846e-09 -4.877077e-10       0.0 -9.801325e-06\n",
            "4   4  4.882628e-10  2.537998e-09 -4.882628e-10       0.0 -9.813948e-06\n",
            "(25678, 4)\n"
          ],
          "name": "stdout"
        }
      ]
    },
    {
      "cell_type": "markdown",
      "metadata": {
        "id": "NnF-uvfUO039",
        "colab_type": "text"
      },
      "source": [
        "# Build and Compile Model\n",
        "\n",
        "The model is 4 layers with relu activation function for each layer except the last one. Since the task is regression, the final layer activation function is linear. \n",
        "\n",
        "The mean absolute error is used as loss as mean squared error tends to give undesirable weightage to outliers"
      ]
    },
    {
      "cell_type": "code",
      "metadata": {
        "id": "-Yki0YMl_fuH",
        "colab_type": "code",
        "colab": {}
      },
      "source": [
        "def get_model():\n",
        "  model = Sequential()\n",
        "  model.add(Dense(128, kernel_initializer = 'normal', activation = 'relu', input_shape = (4,)))\n",
        "  model.add(Dense(256, kernel_initializer = 'normal', activation = 'relu'))\n",
        "  model.add(Dense(256, kernel_initializer = 'normal', activation = 'relu'))\n",
        "  model.add(Dense(1, kernel_initializer = 'normal', activation = 'linear'))\n",
        "  model.compile(loss = 'mean_absolute_error', optimizer = 'adam', metrics = ['mse', 'mae'])\n",
        "  model.summary()\n",
        "  return model"
      ],
      "execution_count": 0,
      "outputs": []
    },
    {
      "cell_type": "code",
      "metadata": {
        "id": "7utgWPIBARQ5",
        "colab_type": "code",
        "outputId": "0da5b05a-41c2-440a-c20e-c874bb780e7d",
        "colab": {
          "base_uri": "https://localhost:8080/",
          "height": 278
        }
      },
      "source": [
        "model = get_model()"
      ],
      "execution_count": 0,
      "outputs": [
        {
          "output_type": "stream",
          "text": [
            "_________________________________________________________________\n",
            "Layer (type)                 Output Shape              Param #   \n",
            "=================================================================\n",
            "dense_5 (Dense)              (None, 128)               640       \n",
            "_________________________________________________________________\n",
            "dense_6 (Dense)              (None, 256)               33024     \n",
            "_________________________________________________________________\n",
            "dense_7 (Dense)              (None, 256)               65792     \n",
            "_________________________________________________________________\n",
            "dense_8 (Dense)              (None, 1)                 257       \n",
            "=================================================================\n",
            "Total params: 99,713\n",
            "Trainable params: 99,713\n",
            "Non-trainable params: 0\n",
            "_________________________________________________________________\n"
          ],
          "name": "stdout"
        }
      ]
    },
    {
      "cell_type": "markdown",
      "metadata": {
        "id": "EPhl1uqbO8Ak",
        "colab_type": "text"
      },
      "source": [
        "# Train Model\n",
        " \n",
        " Model is trained for 200 epochs with batch size of 16. After training, the model is saved to be retrieved later to extract the weights and store them in a format that can be easily read in C++"
      ]
    },
    {
      "cell_type": "code",
      "metadata": {
        "id": "NqOz96_wCmOr",
        "colab_type": "code",
        "colab": {}
      },
      "source": [
        "model.fit(X_train, Y_train, batch_size = 16, epochs = 200)"
      ],
      "execution_count": 0,
      "outputs": []
    },
    {
      "cell_type": "code",
      "metadata": {
        "id": "jzTEEuFuFwqF",
        "colab_type": "code",
        "outputId": "1ab7c3f3-c7a4-46fb-fd6a-7d4b5f3a77b9",
        "colab": {
          "base_uri": "https://localhost:8080/",
          "height": 34
        }
      },
      "source": [
        "model.evaluate(X_test, Y_test)\n",
        "model.save('/content/drive/My Drive/Neural Network Controller/models tensorflow/model_2.h5')"
      ],
      "execution_count": 0,
      "outputs": [
        {
          "output_type": "stream",
          "text": [
            "2854/2854 [==============================] - 0s 72us/step\n"
          ],
          "name": "stdout"
        }
      ]
    },
    {
      "cell_type": "code",
      "metadata": {
        "id": "1TbG37PVFRyX",
        "colab_type": "code",
        "outputId": "df9c0505-af43-4b23-eae9-3d2873fd721f",
        "colab": {
          "base_uri": "https://localhost:8080/",
          "height": 278
        }
      },
      "source": [
        "model = load_model('/content/drive/My Drive/Neural Network Controller/models tensorflow/model_2.h5')\n",
        "model.summary()"
      ],
      "execution_count": 0,
      "outputs": [
        {
          "output_type": "stream",
          "text": [
            "_________________________________________________________________\n",
            "Layer (type)                 Output Shape              Param #   \n",
            "=================================================================\n",
            "dense_5 (Dense)              (None, 128)               640       \n",
            "_________________________________________________________________\n",
            "dense_6 (Dense)              (None, 256)               33024     \n",
            "_________________________________________________________________\n",
            "dense_7 (Dense)              (None, 256)               65792     \n",
            "_________________________________________________________________\n",
            "dense_8 (Dense)              (None, 1)                 257       \n",
            "=================================================================\n",
            "Total params: 99,713\n",
            "Trainable params: 99,713\n",
            "Non-trainable params: 0\n",
            "_________________________________________________________________\n"
          ],
          "name": "stdout"
        }
      ]
    },
    {
      "cell_type": "markdown",
      "metadata": {
        "id": "6X0uv9J-QkTE",
        "colab_type": "text"
      },
      "source": [
        "# Extract trained model weights to file\n",
        "\n",
        "Since the weights are stored as h5 files, reading them directly in C++ is nontrivial. To simplify this I iterate over the layers in the trained model, extract the weights, biases and activation functions and store them in a text file that can be easily processed by the controller plugin"
      ]
    },
    {
      "cell_type": "code",
      "metadata": {
        "id": "yEOBOo58Hh-r",
        "colab_type": "code",
        "outputId": "451f7946-0132-46f7-98a1-ba15bb183796",
        "colab": {
          "base_uri": "https://localhost:8080/",
          "height": 156
        }
      },
      "source": [
        "with open('/content/drive/My Drive/Neural Network Controller/models tensorflow/weights_3.txt', 'w') as file:\n",
        "  params = {}\n",
        "  file.write(str(len(model.layers)))\n",
        "  file.write('\\n')\n",
        "  for i, layer in enumerate(model.layers):\n",
        "    weights = layer.get_weights()\n",
        "    config = layer.get_config()\n",
        "    weights[1] = weights[1].reshape((1, weights[1].shape[0]))\n",
        "    params['W' + str(i + 1)] = weights[0]\n",
        "    params['b' + str(i + 1)] = weights[1]\n",
        "    file.write('W' + str(i + 1))\n",
        "    file.write('\\n')\n",
        "    file.write(' '.join('%s' % x for x in weights[0].shape))\n",
        "    file.write('\\n')\n",
        "    file.write(config['activation'])\n",
        "    file.write('\\n')\n",
        "    weights[0].tofile(file, sep=\" \", format=\"%s\")\n",
        "    print(weights[0].shape)\n",
        "    file.write('\\n')\n",
        "    file.write('b' + str(i + 1))\n",
        "    file.write('\\n')\n",
        "    file.write(' '.join('%s' % x for x in weights[1].shape))\n",
        "    file.write('\\n')\n",
        "    weights[1].tofile(file, sep=\" \", format=\"%s\")\n",
        "    file.write('\\n')\n",
        "    print(weights[1].shape)\n",
        "    \n"
      ],
      "execution_count": 0,
      "outputs": [
        {
          "output_type": "stream",
          "text": [
            "(4, 128)\n",
            "(1, 128)\n",
            "(128, 256)\n",
            "(1, 256)\n",
            "(256, 256)\n",
            "(1, 256)\n",
            "(256, 1)\n",
            "(1, 1)\n"
          ],
          "name": "stdout"
        }
      ]
    },
    {
      "cell_type": "code",
      "metadata": {
        "id": "NyCUxhDNQKKa",
        "colab_type": "code",
        "colab": {}
      },
      "source": [
        "print(params['W1'])"
      ],
      "execution_count": 0,
      "outputs": []
    },
    {
      "cell_type": "code",
      "metadata": {
        "id": "9rjayhbjEVbS",
        "colab_type": "code",
        "colab": {}
      },
      "source": [
        "layer_name = 'dense_11'\n",
        "intermediate_layer_model = Model(inputs=model.input,\n",
        "                                 outputs=model.get_layer(layer_name).output)\n",
        "intermediate_output = intermediate_layer_model.predict(x)\n",
        "print(intermediate_output)\n"
      ],
      "execution_count": 0,
      "outputs": []
    }
  ]
}